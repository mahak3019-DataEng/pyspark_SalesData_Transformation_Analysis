{
 "cells": [
  {
   "cell_type": "markdown",
   "id": "9faffd78",
   "metadata": {},
   "source": [
    "### Initializing the pyspark session and reading pyspark session"
   ]
  },
  {
   "cell_type": "code",
   "execution_count": 2,
   "id": "ac7af4ea-34a6-40cb-b50c-1b1d726d3861",
   "metadata": {},
   "outputs": [],
   "source": [
    "from pyspark.sql import SparkSession\n",
    "\n",
    "spark = (SparkSession.builder.appName(\"FirstSaprkSession\").getOrCreate())"
   ]
  },
  {
   "cell_type": "code",
   "execution_count": 3,
   "id": "aa78690d-628c-4794-9be5-fc09dd5f0816",
   "metadata": {},
   "outputs": [],
   "source": [
    "final_sales_df = spark.read.format('parquet')\\\n",
    "                    \t.option(\"header\", True)\\\n",
    "                    \t.load('parquet_output/')"
   ]
  },
  {
   "cell_type": "code",
   "execution_count": 4,
   "id": "83bd677b-ac71-41cb-b496-86ad0c0ed0fc",
   "metadata": {},
   "outputs": [
    {
     "name": "stdout",
     "output_type": "stream",
     "text": [
      "+-------+--------------------+--------+------+-------------------+--------------------+--------------+----------+-----+\n",
      "|OrderID|             Product|Quantity| Price|          OrderDate|        StoreAddress|          City|ReportYear|Month|\n",
      "+-------+--------------------+--------+------+-------------------+--------------------+--------------+----------+-----+\n",
      "| 295665|  Macbook Pro Laptop|       1|1700.0|2019-12-30 00:01:00|[136 Church St,  ...| New York City|      2019|   12|\n",
      "| 295666|  LG Washing Machine|       1| 600.0|2019-12-29 07:03:00|[562 2nd St,  New...| New York City|      2019|   12|\n",
      "| 295667|USB-C Charging Cable|       1| 11.95|2019-12-12 18:21:00|[277 Main St,  Ne...| New York City|      2019|   12|\n",
      "| 295668|    27in FHD Monitor|       1|149.99|2019-12-22 15:13:00|[410 6th St,  San...| San Francisco|      2019|   12|\n",
      "| 295669|USB-C Charging Cable|       1| 11.95|2019-12-18 12:38:00|[43 Hill St,  Atl...|       Atlanta|      2019|   12|\n",
      "+-------+--------------------+--------+------+-------------------+--------------------+--------------+----------+-----+\n",
      "only showing top 5 rows\n",
      "\n"
     ]
    }
   ],
   "source": [
    "final_sales_df.show(5)"
   ]
  },
  {
   "cell_type": "markdown",
   "id": "ff0b6c93-306e-4c4d-926a-620359fef967",
   "metadata": {},
   "source": [
    "### What was the best month in terms of sales?"
   ]
  },
  {
   "cell_type": "code",
   "execution_count": 12,
   "id": "1cbd831d-eabd-4787-8e20-2780361d3d47",
   "metadata": {},
   "outputs": [],
   "source": [
    "from pyspark.sql.functions import col,expr,sum"
   ]
  },
  {
   "cell_type": "code",
   "execution_count": 7,
   "id": "2aaab128-05f9-47db-8ffa-4e75411432d6",
   "metadata": {},
   "outputs": [],
   "source": [
    "best_month_df = final_sales_df.withColumn(\"total_sales\", expr(\"Quantity * Price\"))"
   ]
  },
  {
   "cell_type": "code",
   "execution_count": 8,
   "id": "4a740529-2284-497f-8f24-125d5643c966",
   "metadata": {},
   "outputs": [
    {
     "name": "stdout",
     "output_type": "stream",
     "text": [
      "+-------+--------------------+--------+------+-------------------+--------------------+--------------+----------+-----+-----------+\n",
      "|OrderID|             Product|Quantity| Price|          OrderDate|        StoreAddress|          City|ReportYear|Month|total_sales|\n",
      "+-------+--------------------+--------+------+-------------------+--------------------+--------------+----------+-----+-----------+\n",
      "| 295665|  Macbook Pro Laptop|       1|1700.0|2019-12-30 00:01:00|[136 Church St,  ...| New York City|      2019|   12|     1700.0|\n",
      "| 295666|  LG Washing Machine|       1| 600.0|2019-12-29 07:03:00|[562 2nd St,  New...| New York City|      2019|   12|      600.0|\n",
      "| 295667|USB-C Charging Cable|       1| 11.95|2019-12-12 18:21:00|[277 Main St,  Ne...| New York City|      2019|   12|      11.95|\n",
      "| 295668|    27in FHD Monitor|       1|149.99|2019-12-22 15:13:00|[410 6th St,  San...| San Francisco|      2019|   12|     149.99|\n",
      "| 295669|USB-C Charging Cable|       1| 11.95|2019-12-18 12:38:00|[43 Hill St,  Atl...|       Atlanta|      2019|   12|      11.95|\n",
      "+-------+--------------------+--------+------+-------------------+--------------------+--------------+----------+-----+-----------+\n",
      "only showing top 5 rows\n",
      "\n"
     ]
    }
   ],
   "source": [
    "best_month_df.show(5)"
   ]
  },
  {
   "cell_type": "code",
   "execution_count": 13,
   "id": "82a68455-5b37-44b4-8592-1ba7d6b3d93a",
   "metadata": {},
   "outputs": [],
   "source": [
    "best_month_df = best_month_df.groupBy('Month').agg(sum(\"total_sales\").alias(\"month_sales\")).orderBy(col(\"month_sales\"), ascending=False)"
   ]
  },
  {
   "cell_type": "markdown",
   "id": "0a39641a",
   "metadata": {},
   "source": [
    "December is the best month for sales."
   ]
  },
  {
   "cell_type": "code",
   "execution_count": 15,
   "id": "4ad1436f-aeb8-4d98-9ab9-e7fceeeae35e",
   "metadata": {},
   "outputs": [
    {
     "name": "stdout",
     "output_type": "stream",
     "text": [
      "+-----+------------------+\n",
      "|Month|month_sales       |\n",
      "+-----+------------------+\n",
      "|12   |4613443.31607008  |\n",
      "|10   |3736726.860444069 |\n",
      "|4    |3390670.2231714725|\n",
      "|11   |3199603.184257984 |\n",
      "|5    |3152606.7349271774|\n",
      "|3    |2807100.3656582832|\n",
      "|7    |2647775.7468385696|\n",
      "|6    |2577802.247295618 |\n",
      "|8    |2244467.8685896397|\n",
      "|2    |2202022.408319235 |\n",
      "+-----+------------------+\n",
      "only showing top 10 rows\n",
      "\n"
     ]
    }
   ],
   "source": [
    "best_month_df.show(10,False)"
   ]
  },
  {
   "cell_type": "markdown",
   "id": "bece317a-dc5b-4bf3-8895-6ff7346938f4",
   "metadata": {},
   "source": [
    "### which city actually sold the most products?"
   ]
  },
  {
   "cell_type": "code",
   "execution_count": 17,
   "id": "ac59693f-a14f-4e3b-a32a-42486d04811f",
   "metadata": {},
   "outputs": [],
   "source": [
    "best_city_df = final_sales_df.groupBy('City').agg(sum(\"Quantity\").alias(\"city_products\")).orderBy(col(\"city_products\"), ascending=False)"
   ]
  },
  {
   "cell_type": "markdown",
   "id": "d55965f3",
   "metadata": {},
   "source": [
    "San Francisco sold the most number of products."
   ]
  },
  {
   "cell_type": "code",
   "execution_count": 18,
   "id": "bd182e09-a4b3-4705-a9ad-ef9085b345cf",
   "metadata": {},
   "outputs": [
    {
     "name": "stdout",
     "output_type": "stream",
     "text": [
      "+--------------+-------------+\n",
      "|          City|city_products|\n",
      "+--------------+-------------+\n",
      "| San Francisco|        50239|\n",
      "|   Los Angeles|        33289|\n",
      "| New York City|        27932|\n",
      "|        Boston|        22528|\n",
      "|        Dallas|        16730|\n",
      "|       Atlanta|        16602|\n",
      "|       Seattle|        16553|\n",
      "|      Portland|        14053|\n",
      "|        Austin|        11153|\n",
      "+--------------+-------------+\n",
      "\n"
     ]
    }
   ],
   "source": [
    "best_city_df.show(10)"
   ]
  },
  {
   "cell_type": "markdown",
   "id": "894193ec-1152-4d36-af98-1d9a7147a5cd",
   "metadata": {},
   "source": [
    "### At what time should we display the advertisements to maximise the sales?"
   ]
  },
  {
   "cell_type": "code",
   "execution_count": 19,
   "id": "197d048b-7a24-40b7-90b3-f016d3bae905",
   "metadata": {},
   "outputs": [],
   "source": [
    "from pyspark.sql.functions import hour"
   ]
  },
  {
   "cell_type": "markdown",
   "id": "8e6c6ed8",
   "metadata": {},
   "source": [
    "First we extracted the hour from OrderDate column and then calculating total sales."
   ]
  },
  {
   "cell_type": "code",
   "execution_count": 23,
   "id": "5b45537e-989d-4382-bdc8-ce2295371ef8",
   "metadata": {},
   "outputs": [],
   "source": [
    "best_time_df = final_sales_df.withColumn(\"best_hour\", hour(col(\"orderDate\"))).withColumn(\"total_sales\", expr(\"Quantity * Price\"))"
   ]
  },
  {
   "cell_type": "code",
   "execution_count": 24,
   "id": "6780a3b6-c275-48de-868d-1c997b17457d",
   "metadata": {},
   "outputs": [
    {
     "name": "stdout",
     "output_type": "stream",
     "text": [
      "+-------+--------------------------+--------+------+-------------------+---------------------------------------------+--------------+----------+-----+---------+-----------+\n",
      "|OrderID|Product                   |Quantity|Price |OrderDate          |StoreAddress                                 |City          |ReportYear|Month|best_hour|total_sales|\n",
      "+-------+--------------------------+--------+------+-------------------+---------------------------------------------+--------------+----------+-----+---------+-----------+\n",
      "|295665 |Macbook Pro Laptop        |1       |1700.0|2019-12-30 00:01:00|[136 Church St,  New York City,  NY 10001]   | New York City|2019      |12   |0        |1700.0     |\n",
      "|295666 |LG Washing Machine        |1       |600.0 |2019-12-29 07:03:00|[562 2nd St,  New York City,  NY 10001]      | New York City|2019      |12   |7        |600.0      |\n",
      "|295667 |USB-C Charging Cable      |1       |11.95 |2019-12-12 18:21:00|[277 Main St,  New York City,  NY 10001]     | New York City|2019      |12   |18       |11.95      |\n",
      "|295668 |27in FHD Monitor          |1       |149.99|2019-12-22 15:13:00|[410 6th St,  San Francisco,  CA 94016]      | San Francisco|2019      |12   |15       |149.99     |\n",
      "|295669 |USB-C Charging Cable      |1       |11.95 |2019-12-18 12:38:00|[43 Hill St,  Atlanta,  GA 30301]            | Atlanta      |2019      |12   |12       |11.95      |\n",
      "|295670 |AA Batteries (4-pack)     |1       |3.84  |2019-12-31 22:58:00|[200 Jefferson St,  New York City,  NY 10001]| New York City|2019      |12   |22       |3.84       |\n",
      "|295671 |USB-C Charging Cable      |1       |11.95 |2019-12-16 15:10:00|[928 12th St,  Portland,  OR 97035]          | Portland     |2019      |12   |15       |11.95      |\n",
      "|295672 |USB-C Charging Cable      |2       |11.95 |2019-12-13 09:29:00|[813 Hickory St,  Dallas,  TX 75001]         | Dallas       |2019      |12   |9        |23.9       |\n",
      "|295673 |Bose SoundSport Headphones|1       |99.99 |2019-12-15 23:26:00|[718 Wilson St,  Dallas,  TX 75001]          | Dallas       |2019      |12   |23       |99.99      |\n",
      "|295674 |AAA Batteries (4-pack)    |4       |2.99  |2019-12-28 11:51:00|[77 7th St,  Dallas,  TX 75001]              | Dallas       |2019      |12   |11       |11.96      |\n",
      "+-------+--------------------------+--------+------+-------------------+---------------------------------------------+--------------+----------+-----+---------+-----------+\n",
      "only showing top 10 rows\n",
      "\n"
     ]
    }
   ],
   "source": [
    "best_time_df.show(10,False)"
   ]
  },
  {
   "cell_type": "code",
   "execution_count": 25,
   "id": "95116699-9e30-4a8c-92b8-0341b7d4628d",
   "metadata": {},
   "outputs": [],
   "source": [
    "best_time_df = best_time_df.groupBy('best_hour').agg(sum(\"total_sales\").alias(\"hour_sales\")).orderBy(col(\"hour_sales\"), ascending=False)"
   ]
  },
  {
   "cell_type": "markdown",
   "id": "dd488536",
   "metadata": {},
   "source": [
    "19th Hour(7 p.m.) is the best time for advertisements."
   ]
  },
  {
   "cell_type": "code",
   "execution_count": 26,
   "id": "f8f3e6ac-627d-4ad1-a2b0-7e709985cb19",
   "metadata": {},
   "outputs": [
    {
     "name": "stdout",
     "output_type": "stream",
     "text": [
      "+---------+------------------+\n",
      "|best_hour|hour_sales        |\n",
      "+---------+------------------+\n",
      "|19       |2412938.5279734135|\n",
      "|12       |2316821.328401327 |\n",
      "|11       |2300610.2287039757|\n",
      "|20       |2281716.2286674976|\n",
      "|18       |2219348.288781166 |\n",
      "|13       |2155389.7889335155|\n",
      "|17       |2129361.5990903378|\n",
      "|14       |2083672.7193861008|\n",
      "|21       |2042000.8498032093|\n",
      "|10       |1944286.759740591 |\n",
      "+---------+------------------+\n",
      "only showing top 10 rows\n",
      "\n"
     ]
    }
   ],
   "source": [
    "best_time_df.show(10,False)"
   ]
  },
  {
   "cell_type": "markdown",
   "id": "fb749368-2582-4ade-961f-9eee609155f5",
   "metadata": {},
   "source": [
    "### What products are often sold together in NY?"
   ]
  },
  {
   "cell_type": "code",
   "execution_count": 44,
   "id": "199b3a81-85d4-4378-974d-dd129c4a778e",
   "metadata": {},
   "outputs": [],
   "source": [
    "ny_city_df = final_sales_df.filter(col(\"City\")==' New York City')"
   ]
  },
  {
   "cell_type": "code",
   "execution_count": 45,
   "id": "02938d79-6924-4703-959b-ebe823e071cd",
   "metadata": {},
   "outputs": [
    {
     "name": "stdout",
     "output_type": "stream",
     "text": [
      "+-------+--------------------------+--------+------+-------------------+---------------------------------------------+--------------+----------+-----+\n",
      "|OrderID|Product                   |Quantity|Price |OrderDate          |StoreAddress                                 |City          |ReportYear|Month|\n",
      "+-------+--------------------------+--------+------+-------------------+---------------------------------------------+--------------+----------+-----+\n",
      "|295665 |Macbook Pro Laptop        |1       |1700.0|2019-12-30 00:01:00|[136 Church St,  New York City,  NY 10001]   | New York City|2019      |12   |\n",
      "|295666 |LG Washing Machine        |1       |600.0 |2019-12-29 07:03:00|[562 2nd St,  New York City,  NY 10001]      | New York City|2019      |12   |\n",
      "|295667 |USB-C Charging Cable      |1       |11.95 |2019-12-12 18:21:00|[277 Main St,  New York City,  NY 10001]     | New York City|2019      |12   |\n",
      "|295670 |AA Batteries (4-pack)     |1       |3.84  |2019-12-31 22:58:00|[200 Jefferson St,  New York City,  NY 10001]| New York City|2019      |12   |\n",
      "|295698 |Vareebadd Phone           |1       |400.0 |2019-12-13 14:32:00|[175 1st St,  New York City,  NY 10001]      | New York City|2019      |12   |\n",
      "|295698 |USB-C Charging Cable      |2       |11.95 |2019-12-13 14:32:00|[175 1st St,  New York City,  NY 10001]      | New York City|2019      |12   |\n",
      "|295700 |Bose SoundSport Headphones|1       |99.99 |2019-12-25 19:02:00|[363 Hickory St,  New York City,  NY 10001]  | New York City|2019      |12   |\n",
      "|295704 |Wired Headphones          |1       |11.99 |2019-12-12 00:20:00|[457 8th St,  New York City,  NY 10001]      | New York City|2019      |12   |\n",
      "|295705 |Wired Headphones          |1       |11.99 |2019-12-25 10:41:00|[133 Jackson St,  New York City,  NY 10001]  | New York City|2019      |12   |\n",
      "|295712 |Macbook Pro Laptop        |1       |1700.0|2019-12-10 20:02:00|[331 Madison St,  New York City,  NY 10001]  | New York City|2019      |12   |\n",
      "+-------+--------------------------+--------+------+-------------------+---------------------------------------------+--------------+----------+-----+\n",
      "only showing top 10 rows\n",
      "\n"
     ]
    }
   ],
   "source": [
    "ny_city_df.show(10,False)"
   ]
  },
  {
   "cell_type": "markdown",
   "id": "143f30d3",
   "metadata": {},
   "source": [
    "checking for records. Does OrderID multiple values are avaible. We found multiple values."
   ]
  },
  {
   "cell_type": "code",
   "execution_count": 46,
   "id": "b3c8bb8e-8097-41ea-bb69-4bf25d166a9b",
   "metadata": {},
   "outputs": [
    {
     "name": "stdout",
     "output_type": "stream",
     "text": [
      "+-------+-----+\n",
      "|OrderID|count|\n",
      "+-------+-----+\n",
      "| 296288|    1|\n",
      "| 300522|    1|\n",
      "| 300574|    1|\n",
      "| 301535|    1|\n",
      "| 304276|    2|\n",
      "+-------+-----+\n",
      "only showing top 5 rows\n",
      "\n"
     ]
    }
   ],
   "source": [
    "ny_city_df.groupBy(\"OrderID\").count().show(5)"
   ]
  },
  {
   "cell_type": "markdown",
   "id": "3aa12944",
   "metadata": {},
   "source": [
    "Using the collect_list() function to create list of all products."
   ]
  },
  {
   "cell_type": "code",
   "execution_count": 51,
   "id": "2206e1c8-9c25-4157-b065-3f64c2d80265",
   "metadata": {},
   "outputs": [],
   "source": [
    "from pyspark.sql.functions import concat_ws, collect_list, size"
   ]
  },
  {
   "cell_type": "code",
   "execution_count": 48,
   "id": "f9e3453f-120e-404d-b0e5-a30d746d2207",
   "metadata": {},
   "outputs": [],
   "source": [
    "ny_city_df = ny_city_df.groupBy(\"OrderID\").agg(collect_list(col(\"Product\")).alias(\"OrderId_Products\"))"
   ]
  },
  {
   "cell_type": "code",
   "execution_count": 50,
   "id": "97f78db9-0bc1-436e-8bb0-aebeabe24f8c",
   "metadata": {},
   "outputs": [
    {
     "name": "stdout",
     "output_type": "stream",
     "text": [
      "+-------+----------------------------+\n",
      "|OrderID|OrderId_Products            |\n",
      "+-------+----------------------------+\n",
      "|141264 |[Apple Airpods Headphones]  |\n",
      "|141268 |[AA Batteries (4-pack)]     |\n",
      "|141272 |[AAA Batteries (4-pack)]    |\n",
      "|141278 |[Lightning Charging Cable]  |\n",
      "|141282 |[Vareebadd Phone]           |\n",
      "|141301 |[Apple Airpods Headphones]  |\n",
      "|141314 |[Macbook Pro Laptop]        |\n",
      "|141317 |[27in FHD Monitor]          |\n",
      "|141323 |[USB-C Charging Cable]      |\n",
      "|141343 |[Bose SoundSport Headphones]|\n",
      "+-------+----------------------------+\n",
      "only showing top 10 rows\n",
      "\n"
     ]
    }
   ],
   "source": [
    "ny_city_df.show(10, truncate=False)"
   ]
  },
  {
   "cell_type": "code",
   "execution_count": 52,
   "id": "478d76d1-5b30-439c-adcf-0490fcd99979",
   "metadata": {},
   "outputs": [],
   "source": [
    "ny_city_df = ny_city_df.withColumn(\"product_list_size\", size(\"OrderId_Products\"))"
   ]
  },
  {
   "cell_type": "markdown",
   "id": "10fba53b",
   "metadata": {},
   "source": [
    "Final Dataframe sorted by product_list_size"
   ]
  },
  {
   "cell_type": "code",
   "execution_count": 55,
   "id": "f48a8842-9b72-4b73-ac26-fb244f27a573",
   "metadata": {},
   "outputs": [
    {
     "name": "stdout",
     "output_type": "stream",
     "text": [
      "+-------+----------------------------------------------------------------+-----------------+\n",
      "|OrderID|OrderId_Products                                                |product_list_size|\n",
      "+-------+----------------------------------------------------------------+-----------------+\n",
      "|144819 |[iPhone, Lightning Charging Cable, Wired Headphones]            |3                |\n",
      "|182908 |[Google Phone, USB-C Charging Cable, Wired Headphones]          |3                |\n",
      "|149499 |[Vareebadd Phone, USB-C Charging Cable, Wired Headphones]       |3                |\n",
      "|149936 |[Google Phone, USB-C Charging Cable, Bose SoundSport Headphones]|3                |\n",
      "|150951 |[iPhone, Lightning Charging Cable, Apple Airpods Headphones]    |3                |\n",
      "|155053 |[Google Phone, Bose SoundSport Headphones, Wired Headphones]    |3                |\n",
      "|157344 |[Vareebadd Phone, USB-C Charging Cable, Wired Headphones]       |3                |\n",
      "|159000 |[iPhone, Lightning Charging Cable, Wired Headphones]            |3                |\n",
      "|167261 |[Google Phone, USB-C Charging Cable, Wired Headphones]          |3                |\n",
      "|173066 |[Vareebadd Phone, USB-C Charging Cable, Wired Headphones]       |3                |\n",
      "+-------+----------------------------------------------------------------+-----------------+\n",
      "only showing top 10 rows\n",
      "\n"
     ]
    }
   ],
   "source": [
    "ny_city_df.orderBy(\"product_list_size\", ascending=False).show(10, False)"
   ]
  },
  {
   "cell_type": "code",
   "execution_count": 57,
   "id": "d4940110-5697-42fe-b36e-ec06d489ba3d",
   "metadata": {},
   "outputs": [],
   "source": [
    "ny_city_df = ny_city_df.filter(col(\"product_list_size\") >1)"
   ]
  },
  {
   "cell_type": "code",
   "execution_count": 58,
   "id": "77dc865b-6bfa-4de9-9d3f-7eae460904ba",
   "metadata": {},
   "outputs": [
    {
     "name": "stdout",
     "output_type": "stream",
     "text": [
      "+-------+---------------------------------------------+-----------------+\n",
      "|OrderID|OrderId_Products                             |product_list_size|\n",
      "+-------+---------------------------------------------+-----------------+\n",
      "|141365 |[Vareebadd Phone, Wired Headphones]          |2                |\n",
      "|141645 |[Lightning Charging Cable, Wired Headphones] |2                |\n",
      "|141910 |[Vareebadd Phone, Wired Headphones]          |2                |\n",
      "|142039 |[Google Phone, USB-C Charging Cable]         |2                |\n",
      "|142144 |[Vareebadd Phone, USB-C Charging Cable]      |2                |\n",
      "|142320 |[Google Phone, iPhone]                       |2                |\n",
      "|142389 |[iPhone, Lightning Charging Cable]           |2                |\n",
      "|142419 |[Google Phone, Wired Headphones]             |2                |\n",
      "|142651 |[USB-C Charging Cable, AA Batteries (4-pack)]|2                |\n",
      "|142730 |[Google Phone, USB-C Charging Cable]         |2                |\n",
      "+-------+---------------------------------------------+-----------------+\n",
      "only showing top 10 rows\n",
      "\n"
     ]
    }
   ],
   "source": [
    "ny_city_df.show(10, truncate=False)"
   ]
  },
  {
   "cell_type": "markdown",
   "id": "3b5412c6",
   "metadata": {},
   "source": [
    "Group by the list of products that are sold together."
   ]
  },
  {
   "cell_type": "code",
   "execution_count": 60,
   "id": "ac2bed3b-6e09-441d-bf0e-e7eb288f25ca",
   "metadata": {},
   "outputs": [
    {
     "name": "stdout",
     "output_type": "stream",
     "text": [
      "+------------------------------------------------------+-----+\n",
      "|OrderId_Products                                      |count|\n",
      "+------------------------------------------------------+-----+\n",
      "|[iPhone, Lightning Charging Cable]                    |127  |\n",
      "|[Google Phone, USB-C Charging Cable]                  |124  |\n",
      "|[Google Phone, Wired Headphones]                      |52   |\n",
      "|[Vareebadd Phone, USB-C Charging Cable]               |49   |\n",
      "|[iPhone, Wired Headphones]                            |46   |\n",
      "|[iPhone, Apple Airpods Headphones]                    |43   |\n",
      "|[Google Phone, Bose SoundSport Headphones]            |23   |\n",
      "|[Vareebadd Phone, Wired Headphones]                   |17   |\n",
      "|[Apple Airpods Headphones, Wired Headphones]          |12   |\n",
      "|[Google Phone, USB-C Charging Cable, Wired Headphones]|11   |\n",
      "+------------------------------------------------------+-----+\n",
      "only showing top 10 rows\n",
      "\n"
     ]
    }
   ],
   "source": [
    "ny_city_df.groupBy(\"OrderId_Products\").count().orderBy(\"count\", ascending=False).show(10,False)"
   ]
  }
 ],
 "metadata": {
  "kernelspec": {
   "display_name": "Python 3 (ipykernel)",
   "language": "python",
   "name": "python3"
  },
  "language_info": {
   "codemirror_mode": {
    "name": "ipython",
    "version": 3
   },
   "file_extension": ".py",
   "mimetype": "text/x-python",
   "name": "python",
   "nbconvert_exporter": "python",
   "pygments_lexer": "ipython3",
   "version": "3.11.6"
  }
 },
 "nbformat": 4,
 "nbformat_minor": 5
}
