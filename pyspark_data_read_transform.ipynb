{
 "cells": [
  {
   "cell_type": "markdown",
   "id": "e6076017",
   "metadata": {},
   "source": [
    "### Creating pyspark session"
   ]
  },
  {
   "cell_type": "code",
   "execution_count": null,
   "id": "f80059b5-2038-48a6-8822-17ff7d2be64f",
   "metadata": {},
   "outputs": [],
   "source": [
    "from pyspark.sql import SparkSession\n",
    "\n",
    "spark = (SparkSession.builder.appName(\"FirstSaprkSession\").getOrCreate())"
   ]
  },
  {
   "cell_type": "code",
   "execution_count": 4,
   "id": "f1adc4b2-5f6b-4e09-94f5-08c090866c0a",
   "metadata": {},
   "outputs": [],
   "source": [
    "from pyspark.sql.types import StructType, StructField, IntegerType, StringType\n",
    "\n",
    "schema_df = StructType([StructField('Order ID', StringType(), True),\n",
    "\t\t\t\t\t\t\tStructField('Product', StringType(), True),\n",
    "\t\t\t\t\t\t\tStructField('Quantity Ordered', StringType(), True),\n",
    "                             StructField('Price Each', StringType(), True),\n",
    "\t\t\t\t\t\t\tStructField('Order Date', StringType(), True),\n",
    "\t\t\t\t\t\t\tStructField('Purchase Address', StringType(), True)\n",
    "\t\t\t\t\t\t\t])"
   ]
  },
  {
   "cell_type": "markdown",
   "id": "b78cd476",
   "metadata": {},
   "source": [
    "### Reading CSV files in pysprk"
   ]
  },
  {
   "cell_type": "code",
   "execution_count": 62,
   "id": "7147c108-b333-4846-bc9f-0047f565b56e",
   "metadata": {},
   "outputs": [],
   "source": [
    "sales_df = spark.read.format('CSV')\\\n",
    "\t.option(\"header\", True)\\\n",
    "\t.schema(schema_df).load('salesdata/')"
   ]
  },
  {
   "cell_type": "code",
   "execution_count": 63,
   "id": "c2d3f119-faf4-4e75-aef1-eca80c3eccb7",
   "metadata": {},
   "outputs": [
    {
     "name": "stdout",
     "output_type": "stream",
     "text": [
      "+--------+--------------------+----------------+----------+--------------+--------------------+\n",
      "|Order ID|             Product|Quantity Ordered|Price Each|    Order Date|    Purchase Address|\n",
      "+--------+--------------------+----------------+----------+--------------+--------------------+\n",
      "|  295665|  Macbook Pro Laptop|               1|      1700|12/30/19 00:01|136 Church St, Ne...|\n",
      "|  295666|  LG Washing Machine|               1|     600.0|12/29/19 07:03|562 2nd St, New Y...|\n",
      "|  295667|USB-C Charging Cable|               1|     11.95|12/12/19 18:21|277 Main St, New ...|\n",
      "|  295668|    27in FHD Monitor|               1|    149.99|12/22/19 15:13|410 6th St, San F...|\n",
      "|  295669|USB-C Charging Cable|               1|     11.95|12/18/19 12:38|43 Hill St, Atlan...|\n",
      "+--------+--------------------+----------------+----------+--------------+--------------------+\n",
      "only showing top 5 rows\n",
      "\n"
     ]
    }
   ],
   "source": [
    "sales_df.show(5)"
   ]
  },
  {
   "cell_type": "markdown",
   "id": "75bd996e",
   "metadata": {},
   "source": [
    "### Importing pyspark functions and checking for Bad data \n",
    "\n",
    "Checking bad data by \"final_sales_df.describe().show()\""
   ]
  },
  {
   "cell_type": "code",
   "execution_count": 64,
   "id": "2bc0a0f7-0531-4cb4-8e9e-b2d98708edbb",
   "metadata": {},
   "outputs": [],
   "source": [
    "from pyspark.sql.functions import col,expr,split,count"
   ]
  },
  {
   "cell_type": "code",
   "execution_count": 65,
   "id": "b10ec725-8ef2-42cc-9ec9-efd9578d438f",
   "metadata": {},
   "outputs": [],
   "source": [
    "filter_sales_df = sales_df.filter(col(\"Order ID\") != 'Order ID')"
   ]
  },
  {
   "cell_type": "markdown",
   "id": "c91f6e49",
   "metadata": {},
   "source": [
    "Below output tell us that the now the output is in perfect form"
   ]
  },
  {
   "cell_type": "code",
   "execution_count": 66,
   "id": "b5df48fd-bfc5-4ca4-8ff9-79174187d54a",
   "metadata": {},
   "outputs": [
    {
     "name": "stdout",
     "output_type": "stream",
     "text": [
      "+-------+-----------------+------------+-------------------+------------------+--------------+--------------------+\n",
      "|summary|         Order ID|     Product|   Quantity Ordered|        Price Each|    Order Date|    Purchase Address|\n",
      "+-------+-----------------+------------+-------------------+------------------+--------------+--------------------+\n",
      "|  count|           185950|      185950|             185950|            185950|        185950|              185950|\n",
      "|   mean|230417.5693788653|        NULL| 1.1243828986286637|184.39973476743927|          NULL|                NULL|\n",
      "| stddev|51512.73710999594|        NULL|0.44279262402866965|332.73132988434367|          NULL|                NULL|\n",
      "|    min|           141234|20in Monitor|                  1|            109.99|01/01/19 03:07|1 11th St, Atlant...|\n",
      "|    max|           319670|      iPhone|                  9|            999.99|12/31/19 23:53|999 Wilson St, Sa...|\n",
      "+-------+-----------------+------------+-------------------+------------------+--------------+--------------------+\n",
      "\n"
     ]
    }
   ],
   "source": [
    "filter_sales_df.describe().show()"
   ]
  },
  {
   "cell_type": "markdown",
   "id": "9fb946f8-7258-44d6-92e2-0a4367134856",
   "metadata": {},
   "source": [
    "### Extract the City and State from Address"
   ]
  },
  {
   "cell_type": "code",
   "execution_count": 67,
   "id": "63bfe774-ace2-4a88-b552-b290a734e9e0",
   "metadata": {},
   "outputs": [],
   "source": [
    "filter_sales_df = filter_sales_df.withColumn(\"Purchase Address\", split(col(\"Purchase Address\"),','))"
   ]
  },
  {
   "cell_type": "code",
   "execution_count": 68,
   "id": "7e2caa97-beb7-42dc-9ab6-bf79bb0550f2",
   "metadata": {},
   "outputs": [
    {
     "name": "stdout",
     "output_type": "stream",
     "text": [
      "+--------+--------------------+----------------+----------+--------------+--------------------+\n",
      "|Order ID|             Product|Quantity Ordered|Price Each|    Order Date|    Purchase Address|\n",
      "+--------+--------------------+----------------+----------+--------------+--------------------+\n",
      "|  295665|  Macbook Pro Laptop|               1|      1700|12/30/19 00:01|[136 Church St,  ...|\n",
      "|  295666|  LG Washing Machine|               1|     600.0|12/29/19 07:03|[562 2nd St,  New...|\n",
      "|  295667|USB-C Charging Cable|               1|     11.95|12/12/19 18:21|[277 Main St,  Ne...|\n",
      "|  295668|    27in FHD Monitor|               1|    149.99|12/22/19 15:13|[410 6th St,  San...|\n",
      "|  295669|USB-C Charging Cable|               1|     11.95|12/18/19 12:38|[43 Hill St,  Atl...|\n",
      "+--------+--------------------+----------------+----------+--------------+--------------------+\n",
      "only showing top 5 rows\n",
      "\n"
     ]
    }
   ],
   "source": [
    "filter_sales_df.show(5)"
   ]
  },
  {
   "cell_type": "code",
   "execution_count": 69,
   "id": "87641d4d-3321-4f2f-bc30-7ee5790f50c0",
   "metadata": {},
   "outputs": [],
   "source": [
    "filter_sales_df = filter_sales_df.withColumn(\"City\", col(\"Purchase Address\").getItem(1))"
   ]
  },
  {
   "cell_type": "code",
   "execution_count": 70,
   "id": "8e1833fe-b497-47fa-8869-b724cb1d2bac",
   "metadata": {},
   "outputs": [
    {
     "name": "stdout",
     "output_type": "stream",
     "text": [
      "+--------+--------------------+----------------+----------+--------------+------------------------------------------+--------------+\n",
      "|Order ID|Product             |Quantity Ordered|Price Each|Order Date    |Purchase Address                          |City          |\n",
      "+--------+--------------------+----------------+----------+--------------+------------------------------------------+--------------+\n",
      "|295665  |Macbook Pro Laptop  |1               |1700      |12/30/19 00:01|[136 Church St,  New York City,  NY 10001]| New York City|\n",
      "|295666  |LG Washing Machine  |1               |600.0     |12/29/19 07:03|[562 2nd St,  New York City,  NY 10001]   | New York City|\n",
      "|295667  |USB-C Charging Cable|1               |11.95     |12/12/19 18:21|[277 Main St,  New York City,  NY 10001]  | New York City|\n",
      "|295668  |27in FHD Monitor    |1               |149.99    |12/22/19 15:13|[410 6th St,  San Francisco,  CA 94016]   | San Francisco|\n",
      "|295669  |USB-C Charging Cable|1               |11.95     |12/18/19 12:38|[43 Hill St,  Atlanta,  GA 30301]         | Atlanta      |\n",
      "+--------+--------------------+----------------+----------+--------------+------------------------------------------+--------------+\n",
      "only showing top 5 rows\n",
      "\n"
     ]
    }
   ],
   "source": [
    "filter_sales_df.show(5, False)"
   ]
  },
  {
   "cell_type": "code",
   "execution_count": 71,
   "id": "1bcca049-d6af-4ecb-9d42-6d04a92dd6c5",
   "metadata": {},
   "outputs": [],
   "source": [
    "filter_sales_df = filter_sales_df.withColumn(\"State\", col(\"Purchase Address\").getItem(2)[1:3])"
   ]
  },
  {
   "cell_type": "code",
   "execution_count": 72,
   "id": "8aa60aee-14c2-4fea-8dc9-600eec48cbbc",
   "metadata": {},
   "outputs": [
    {
     "name": "stdout",
     "output_type": "stream",
     "text": [
      "+--------+--------------------+----------------+----------+--------------+------------------------------------------+--------------+-----+\n",
      "|Order ID|Product             |Quantity Ordered|Price Each|Order Date    |Purchase Address                          |City          |State|\n",
      "+--------+--------------------+----------------+----------+--------------+------------------------------------------+--------------+-----+\n",
      "|295665  |Macbook Pro Laptop  |1               |1700      |12/30/19 00:01|[136 Church St,  New York City,  NY 10001]| New York City| NY  |\n",
      "|295666  |LG Washing Machine  |1               |600.0     |12/29/19 07:03|[562 2nd St,  New York City,  NY 10001]   | New York City| NY  |\n",
      "|295667  |USB-C Charging Cable|1               |11.95     |12/12/19 18:21|[277 Main St,  New York City,  NY 10001]  | New York City| NY  |\n",
      "|295668  |27in FHD Monitor    |1               |149.99    |12/22/19 15:13|[410 6th St,  San Francisco,  CA 94016]   | San Francisco| CA  |\n",
      "|295669  |USB-C Charging Cable|1               |11.95     |12/18/19 12:38|[43 Hill St,  Atlanta,  GA 30301]         | Atlanta      | GA  |\n",
      "+--------+--------------------+----------------+----------+--------------+------------------------------------------+--------------+-----+\n",
      "only showing top 5 rows\n",
      "\n"
     ]
    }
   ],
   "source": [
    "filter_sales_df.show(5, False)"
   ]
  },
  {
   "cell_type": "code",
   "execution_count": 73,
   "id": "5f2ea46c-3b49-4435-bcb1-ae24c8911a1f",
   "metadata": {},
   "outputs": [],
   "source": [
    "from pyspark.sql.types import StructType, StructField, IntegerType, StringType, FloatType, TimestampType\n",
    "from pyspark.sql.functions import to_timestamp"
   ]
  },
  {
   "cell_type": "markdown",
   "id": "4369cc87",
   "metadata": {},
   "source": [
    "### Updating the column names"
   ]
  },
  {
   "cell_type": "code",
   "execution_count": 74,
   "id": "6724ba3a-1ba4-4d96-85c4-497d54e5b6bd",
   "metadata": {},
   "outputs": [],
   "source": [
    "filter_sales_df = filter_sales_df.withColumnRenamed(\"Order ID\",\"OrderID\").withColumnRenamed(\"Quantity Ordered\",\"Quantity\").withColumnRenamed(\"Order Date\",\"OrderDate\").withColumnRenamed(\"Purchase Address\",\"StoreAddress\")\\\n",
    "                                .withColumnRenamed(\"Price Each\",\"Price\")"
   ]
  },
  {
   "cell_type": "code",
   "execution_count": 75,
   "id": "69b9c2cc-6a11-4415-a6ac-5ca89f940cd3",
   "metadata": {},
   "outputs": [
    {
     "name": "stdout",
     "output_type": "stream",
     "text": [
      "+-------+--------------------+--------+------+--------------+------------------------------------------+--------------+-----+\n",
      "|OrderID|Product             |Quantity|Price |OrderDate     |StoreAddress                              |City          |State|\n",
      "+-------+--------------------+--------+------+--------------+------------------------------------------+--------------+-----+\n",
      "|295665 |Macbook Pro Laptop  |1       |1700  |12/30/19 00:01|[136 Church St,  New York City,  NY 10001]| New York City| NY  |\n",
      "|295666 |LG Washing Machine  |1       |600.0 |12/29/19 07:03|[562 2nd St,  New York City,  NY 10001]   | New York City| NY  |\n",
      "|295667 |USB-C Charging Cable|1       |11.95 |12/12/19 18:21|[277 Main St,  New York City,  NY 10001]  | New York City| NY  |\n",
      "|295668 |27in FHD Monitor    |1       |149.99|12/22/19 15:13|[410 6th St,  San Francisco,  CA 94016]   | San Francisco| CA  |\n",
      "|295669 |USB-C Charging Cable|1       |11.95 |12/18/19 12:38|[43 Hill St,  Atlanta,  GA 30301]         | Atlanta      | GA  |\n",
      "+-------+--------------------+--------+------+--------------+------------------------------------------+--------------+-----+\n",
      "only showing top 5 rows\n",
      "\n"
     ]
    }
   ],
   "source": [
    "filter_sales_df.show(5, False)"
   ]
  },
  {
   "cell_type": "markdown",
   "id": "63819577",
   "metadata": {},
   "source": [
    "### Updating the datatypes of columns\n",
    "\n",
    "As OrderDate is in StringType format. To convert it to datetime format we used \"to_timestamp()\" function."
   ]
  },
  {
   "cell_type": "code",
   "execution_count": 76,
   "id": "99a67e46-6a38-4218-8382-cb2f8a9d05fb",
   "metadata": {},
   "outputs": [],
   "source": [
    "filter_sales_df = filter_sales_df.withColumn(\"OrderID\", col(\"OrderID\").cast(IntegerType()))\\\n",
    "                                .withColumn(\"Quantity\", col(\"Quantity\").cast(IntegerType()))\\\n",
    "                                .withColumn(\"Price\", col(\"Price\").cast(FloatType()))\\\n",
    "                                .withColumn(\"OrderDate\", to_timestamp(col(\"OrderDate\"),\"MM/dd/yy HH:mm\"))\\\n",
    "                                .withColumn(\"StoreAddress\", col(\"StoreAddress\").cast(StringType()))"
   ]
  },
  {
   "cell_type": "code",
   "execution_count": 77,
   "id": "39de70a5-c76d-4096-8ca0-0fa8453e047e",
   "metadata": {},
   "outputs": [
    {
     "name": "stdout",
     "output_type": "stream",
     "text": [
      "root\n",
      " |-- OrderID: integer (nullable = true)\n",
      " |-- Product: string (nullable = true)\n",
      " |-- Quantity: integer (nullable = true)\n",
      " |-- Price: float (nullable = true)\n",
      " |-- OrderDate: timestamp (nullable = true)\n",
      " |-- StoreAddress: string (nullable = true)\n",
      " |-- City: string (nullable = true)\n",
      " |-- State: string (nullable = true)\n",
      "\n"
     ]
    }
   ],
   "source": [
    "filter_sales_df.printSchema()"
   ]
  },
  {
   "cell_type": "code",
   "execution_count": 78,
   "id": "8f77f4f5-caab-4aba-a666-9c1522d3bb2f",
   "metadata": {},
   "outputs": [
    {
     "name": "stdout",
     "output_type": "stream",
     "text": [
      "+-------+--------------------+--------+------+-------------------+------------------------------------------+--------------+-----+\n",
      "|OrderID|Product             |Quantity|Price |OrderDate          |StoreAddress                              |City          |State|\n",
      "+-------+--------------------+--------+------+-------------------+------------------------------------------+--------------+-----+\n",
      "|295665 |Macbook Pro Laptop  |1       |1700.0|2019-12-30 00:01:00|[136 Church St,  New York City,  NY 10001]| New York City| NY  |\n",
      "|295666 |LG Washing Machine  |1       |600.0 |2019-12-29 07:03:00|[562 2nd St,  New York City,  NY 10001]   | New York City| NY  |\n",
      "|295667 |USB-C Charging Cable|1       |11.95 |2019-12-12 18:21:00|[277 Main St,  New York City,  NY 10001]  | New York City| NY  |\n",
      "|295668 |27in FHD Monitor    |1       |149.99|2019-12-22 15:13:00|[410 6th St,  San Francisco,  CA 94016]   | San Francisco| CA  |\n",
      "|295669 |USB-C Charging Cable|1       |11.95 |2019-12-18 12:38:00|[43 Hill St,  Atlanta,  GA 30301]         | Atlanta      | GA  |\n",
      "+-------+--------------------+--------+------+-------------------+------------------------------------------+--------------+-----+\n",
      "only showing top 5 rows\n",
      "\n"
     ]
    }
   ],
   "source": [
    "filter_sales_df.show(5, False)"
   ]
  },
  {
   "cell_type": "markdown",
   "id": "9945d42d-b894-4ae2-a3cd-e51eb6a17790",
   "metadata": {},
   "source": [
    "### Extract year and month from OrderDate"
   ]
  },
  {
   "cell_type": "code",
   "execution_count": 79,
   "id": "091f0772-3b1f-4807-8943-271828b5cc53",
   "metadata": {},
   "outputs": [],
   "source": [
    "from pyspark.sql.functions import year, month"
   ]
  },
  {
   "cell_type": "code",
   "execution_count": 80,
   "id": "0adced91-4383-448e-b73e-4df3d674caab",
   "metadata": {},
   "outputs": [],
   "source": [
    "filter_sales_df = filter_sales_df.withColumn(\"ReportYear\", year(col(\"OrderDate\"))).withColumn(\"Month\", month(col(\"OrderDate\")))"
   ]
  },
  {
   "cell_type": "code",
   "execution_count": 81,
   "id": "674e2dd1-2d32-4112-b9ae-b2e9d92dc6aa",
   "metadata": {},
   "outputs": [
    {
     "name": "stdout",
     "output_type": "stream",
     "text": [
      "+-------+--------------------+--------+------+-------------------+------------------------------------------+--------------+-----+----------+-----+\n",
      "|OrderID|Product             |Quantity|Price |OrderDate          |StoreAddress                              |City          |State|ReportYear|Month|\n",
      "+-------+--------------------+--------+------+-------------------+------------------------------------------+--------------+-----+----------+-----+\n",
      "|295665 |Macbook Pro Laptop  |1       |1700.0|2019-12-30 00:01:00|[136 Church St,  New York City,  NY 10001]| New York City| NY  |2019      |12   |\n",
      "|295666 |LG Washing Machine  |1       |600.0 |2019-12-29 07:03:00|[562 2nd St,  New York City,  NY 10001]   | New York City| NY  |2019      |12   |\n",
      "|295667 |USB-C Charging Cable|1       |11.95 |2019-12-12 18:21:00|[277 Main St,  New York City,  NY 10001]  | New York City| NY  |2019      |12   |\n",
      "|295668 |27in FHD Monitor    |1       |149.99|2019-12-22 15:13:00|[410 6th St,  San Francisco,  CA 94016]   | San Francisco| CA  |2019      |12   |\n",
      "|295669 |USB-C Charging Cable|1       |11.95 |2019-12-18 12:38:00|[43 Hill St,  Atlanta,  GA 30301]         | Atlanta      | GA  |2019      |12   |\n",
      "+-------+--------------------+--------+------+-------------------+------------------------------------------+--------------+-----+----------+-----+\n",
      "only showing top 5 rows\n",
      "\n"
     ]
    }
   ],
   "source": [
    "filter_sales_df.show(5, False)"
   ]
  },
  {
   "cell_type": "markdown",
   "id": "6ce977ad-d8f7-44fd-b14d-cbff6050edeb",
   "metadata": {},
   "source": [
    "### Write the final dataframe to parquet file"
   ]
  },
  {
   "cell_type": "code",
   "execution_count": 83,
   "id": "3f610348-5a4d-4464-bc01-2f148bc68351",
   "metadata": {},
   "outputs": [],
   "source": [
    "sales_final_df = filter_sales_df.select(\"OrderID\",\"Product\",\"Quantity\",\"Price\",\"OrderDate\",\"StoreAddress\",\"City\",\"ReportYear\",\"Month\")"
   ]
  },
  {
   "cell_type": "code",
   "execution_count": 84,
   "id": "be1e8707-1210-4dea-aa21-c837e991dfed",
   "metadata": {},
   "outputs": [
    {
     "name": "stdout",
     "output_type": "stream",
     "text": [
      "+-------+--------------------------+--------+------+-------------------+---------------------------------------------+--------------+----------+-----+\n",
      "|OrderID|Product                   |Quantity|Price |OrderDate          |StoreAddress                                 |City          |ReportYear|Month|\n",
      "+-------+--------------------------+--------+------+-------------------+---------------------------------------------+--------------+----------+-----+\n",
      "|295665 |Macbook Pro Laptop        |1       |1700.0|2019-12-30 00:01:00|[136 Church St,  New York City,  NY 10001]   | New York City|2019      |12   |\n",
      "|295666 |LG Washing Machine        |1       |600.0 |2019-12-29 07:03:00|[562 2nd St,  New York City,  NY 10001]      | New York City|2019      |12   |\n",
      "|295667 |USB-C Charging Cable      |1       |11.95 |2019-12-12 18:21:00|[277 Main St,  New York City,  NY 10001]     | New York City|2019      |12   |\n",
      "|295668 |27in FHD Monitor          |1       |149.99|2019-12-22 15:13:00|[410 6th St,  San Francisco,  CA 94016]      | San Francisco|2019      |12   |\n",
      "|295669 |USB-C Charging Cable      |1       |11.95 |2019-12-18 12:38:00|[43 Hill St,  Atlanta,  GA 30301]            | Atlanta      |2019      |12   |\n",
      "|295670 |AA Batteries (4-pack)     |1       |3.84  |2019-12-31 22:58:00|[200 Jefferson St,  New York City,  NY 10001]| New York City|2019      |12   |\n",
      "|295671 |USB-C Charging Cable      |1       |11.95 |2019-12-16 15:10:00|[928 12th St,  Portland,  OR 97035]          | Portland     |2019      |12   |\n",
      "|295672 |USB-C Charging Cable      |2       |11.95 |2019-12-13 09:29:00|[813 Hickory St,  Dallas,  TX 75001]         | Dallas       |2019      |12   |\n",
      "|295673 |Bose SoundSport Headphones|1       |99.99 |2019-12-15 23:26:00|[718 Wilson St,  Dallas,  TX 75001]          | Dallas       |2019      |12   |\n",
      "|295674 |AAA Batteries (4-pack)    |4       |2.99  |2019-12-28 11:51:00|[77 7th St,  Dallas,  TX 75001]              | Dallas       |2019      |12   |\n",
      "+-------+--------------------------+--------+------+-------------------+---------------------------------------------+--------------+----------+-----+\n",
      "only showing top 10 rows\n",
      "\n"
     ]
    }
   ],
   "source": [
    "sales_final_df.show(10,False)"
   ]
  },
  {
   "cell_type": "code",
   "execution_count": 88,
   "id": "d3178d59-c78f-426d-b1e4-456fb01c0459",
   "metadata": {},
   "outputs": [],
   "source": [
    "output_path = './output_data/parquet_sales_final/'"
   ]
  },
  {
   "cell_type": "code",
   "execution_count": 89,
   "id": "80612fd4-17a4-4452-a26e-78eb41ee704f",
   "metadata": {},
   "outputs": [],
   "source": [
    "sales_final_df.write.format('parquet').mode('overwrite').partitionBy(\"ReportYear\",\"Month\").save(output_path)"
   ]
  }
 ],
 "metadata": {
  "kernelspec": {
   "display_name": "Python 3 (ipykernel)",
   "language": "python",
   "name": "python3"
  },
  "language_info": {
   "codemirror_mode": {
    "name": "ipython",
    "version": 3
   },
   "file_extension": ".py",
   "mimetype": "text/x-python",
   "name": "python",
   "nbconvert_exporter": "python",
   "pygments_lexer": "ipython3",
   "version": "3.11.6"
  }
 },
 "nbformat": 4,
 "nbformat_minor": 5
}
